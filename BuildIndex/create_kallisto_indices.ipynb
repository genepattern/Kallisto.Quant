{
 "cells": [
  {
   "cell_type": "markdown",
   "metadata": {},
   "source": [
    "# Release 37 (GRCh38.p13)"
   ]
  },
  {
   "cell_type": "markdown",
   "metadata": {},
   "source": [
    "# Created on 2021-03-22 "
   ]
  },
  {
   "cell_type": "markdown",
   "metadata": {},
   "source": [
    "Download Fasta and GTF files from here:\n",
    "https://www.gencodegenes.org/human/release_37.html\n",
    "https://www.gencodegenes.org/mouse/release_M26.html\n",
    "\n",
    "- gencode.v37.annotation.gtf.gz\n",
    "- gencode.v37.transcripts.fa.gz\n",
    "- gencode.vM26.annotation.gtf.gz\n",
    "- gencode.vM26.transcripts.fa.gz\n",
    "\n",
    "---\n",
    "\n",
    "Comprehensive gene annotation\tCHR\t\n",
    "It contains the comprehensive gene annotation on the reference chromosomes only\n",
    "This is the main annotation file for most users\n",
    "GTF GFF3\n",
    "\n",
    "Elsewhere<https://academic.oup.com/nar/article/47/D1/D766/5144133> it says this \"To cater for a variety of use cases, we create a number of annotation sets. Examples of these are our ‘GENCODE comprehensive’ and ‘GENCODE basic’ gene sets. GENCODE comprehensive includes the complete set of annotations including partial transcripts (i.e. transcripts that are not full length, but represent a unique splice form based on available evidence) and biotypes such as NMD. GENCODE basic is a subset of GENCODE comprehensive that contains only transcripts with full-length CDS. \" \n",
    "\n",
    "...\n",
    "\n",
    "Transcript sequences\tCHR\t\n",
    "Nucleotide sequences of all transcripts on the reference chromosomes\n",
    "Fasta"
   ]
  },
  {
   "cell_type": "code",
   "execution_count": 10,
   "metadata": {
    "ExecuteTime": {
     "end_time": "2021-06-02T23:00:10.858303Z",
     "start_time": "2021-06-02T23:00:10.854629Z"
    }
   },
   "outputs": [],
   "source": [
    "import pandas as pd\n",
    "import numpy as np"
   ]
  },
  {
   "cell_type": "code",
   "execution_count": 1,
   "metadata": {
    "ExecuteTime": {
     "end_time": "2021-06-02T22:29:38.398194Z",
     "start_time": "2021-06-02T22:29:38.087311Z"
    }
   },
   "outputs": [],
   "source": [
    "from gtfparse import read_gtf"
   ]
  },
  {
   "cell_type": "markdown",
   "metadata": {},
   "source": [
    "# Human Index"
   ]
  },
  {
   "cell_type": "code",
   "execution_count": 2,
   "metadata": {
    "ExecuteTime": {
     "end_time": "2021-06-02T22:53:00.962251Z",
     "start_time": "2021-06-02T22:29:55.407802Z"
    },
    "scrolled": true
   },
   "outputs": [
    {
     "name": "stdout",
     "output_type": "stream",
     "text": [
      "\n",
      "[build] loading fasta file Human/gencode.v37.transcripts.fa.gz\n",
      "[build] k-mer length: 31\n",
      "[build] warning: clipped off poly-A tail (longer than 10)\n",
      "        from 1833 target sequences\n",
      "[build] warning: replaced 4 non-ACGUT characters in the input sequence\n",
      "        with pseudorandom nucleotides\n",
      "[build] counting k-mers ... done.\n",
      "[build] building target de Bruijn graph ...  done \n",
      "[build] creating equivalence classes ...  done\n",
      "[build] target de Bruijn graph has 1524832 contigs and contains 143310200 k-mers \n",
      "\n"
     ]
    }
   ],
   "source": [
    "!/Kallisto/kallisto index -i \"to_add/HUMAN_gencode.v37.transcripts.idx\" Human/gencode.v37.transcripts.fa.gz"
   ]
  },
  {
   "cell_type": "markdown",
   "metadata": {},
   "source": [
    "# tx2gene"
   ]
  },
  {
   "cell_type": "code",
   "execution_count": 4,
   "metadata": {
    "ExecuteTime": {
     "end_time": "2021-06-02T22:59:37.960547Z",
     "start_time": "2021-06-02T22:57:30.993997Z"
    }
   },
   "outputs": [
    {
     "name": "stderr",
     "output_type": "stream",
     "text": [
      "INFO:root:Extracted GTF attributes: ['gene_id', 'gene_type', 'gene_name', 'level', 'hgnc_id', 'havana_gene', 'transcript_id', 'transcript_type', 'transcript_name', 'transcript_support_level', 'tag', 'havana_transcript', 'exon_number', 'exon_id', 'ont', 'protein_id', 'ccdsid']\n"
     ]
    },
    {
     "data": {
      "text/html": [
       "<div>\n",
       "<style scoped>\n",
       "    .dataframe tbody tr th:only-of-type {\n",
       "        vertical-align: middle;\n",
       "    }\n",
       "\n",
       "    .dataframe tbody tr th {\n",
       "        vertical-align: top;\n",
       "    }\n",
       "\n",
       "    .dataframe thead th {\n",
       "        text-align: right;\n",
       "    }\n",
       "</style>\n",
       "<table border=\"1\" class=\"dataframe\">\n",
       "  <thead>\n",
       "    <tr style=\"text-align: right;\">\n",
       "      <th></th>\n",
       "      <th>seqname</th>\n",
       "      <th>source</th>\n",
       "      <th>feature</th>\n",
       "      <th>start</th>\n",
       "      <th>end</th>\n",
       "      <th>score</th>\n",
       "      <th>strand</th>\n",
       "      <th>frame</th>\n",
       "      <th>gene_id</th>\n",
       "      <th>gene_type</th>\n",
       "      <th>...</th>\n",
       "      <th>transcript_type</th>\n",
       "      <th>transcript_name</th>\n",
       "      <th>transcript_support_level</th>\n",
       "      <th>tag</th>\n",
       "      <th>havana_transcript</th>\n",
       "      <th>exon_number</th>\n",
       "      <th>exon_id</th>\n",
       "      <th>ont</th>\n",
       "      <th>protein_id</th>\n",
       "      <th>ccdsid</th>\n",
       "    </tr>\n",
       "  </thead>\n",
       "  <tbody>\n",
       "    <tr>\n",
       "      <th>0</th>\n",
       "      <td>chr1</td>\n",
       "      <td>HAVANA</td>\n",
       "      <td>gene</td>\n",
       "      <td>11869</td>\n",
       "      <td>14409</td>\n",
       "      <td>NaN</td>\n",
       "      <td>+</td>\n",
       "      <td>0</td>\n",
       "      <td>ENSG00000223972.5</td>\n",
       "      <td>transcribed_unprocessed_pseudogene</td>\n",
       "      <td>...</td>\n",
       "      <td></td>\n",
       "      <td></td>\n",
       "      <td></td>\n",
       "      <td></td>\n",
       "      <td></td>\n",
       "      <td></td>\n",
       "      <td></td>\n",
       "      <td></td>\n",
       "      <td></td>\n",
       "      <td></td>\n",
       "    </tr>\n",
       "    <tr>\n",
       "      <th>1</th>\n",
       "      <td>chr1</td>\n",
       "      <td>HAVANA</td>\n",
       "      <td>transcript</td>\n",
       "      <td>11869</td>\n",
       "      <td>14409</td>\n",
       "      <td>NaN</td>\n",
       "      <td>+</td>\n",
       "      <td>0</td>\n",
       "      <td>ENSG00000223972.5</td>\n",
       "      <td>transcribed_unprocessed_pseudogene</td>\n",
       "      <td>...</td>\n",
       "      <td>processed_transcript</td>\n",
       "      <td>DDX11L1-202</td>\n",
       "      <td>1</td>\n",
       "      <td>basic</td>\n",
       "      <td>OTTHUMT00000362751.1</td>\n",
       "      <td></td>\n",
       "      <td></td>\n",
       "      <td></td>\n",
       "      <td></td>\n",
       "      <td></td>\n",
       "    </tr>\n",
       "    <tr>\n",
       "      <th>2</th>\n",
       "      <td>chr1</td>\n",
       "      <td>HAVANA</td>\n",
       "      <td>exon</td>\n",
       "      <td>11869</td>\n",
       "      <td>12227</td>\n",
       "      <td>NaN</td>\n",
       "      <td>+</td>\n",
       "      <td>0</td>\n",
       "      <td>ENSG00000223972.5</td>\n",
       "      <td>transcribed_unprocessed_pseudogene</td>\n",
       "      <td>...</td>\n",
       "      <td>processed_transcript</td>\n",
       "      <td>DDX11L1-202</td>\n",
       "      <td>1</td>\n",
       "      <td>basic</td>\n",
       "      <td>OTTHUMT00000362751.1</td>\n",
       "      <td>1</td>\n",
       "      <td>ENSE00002234944.1</td>\n",
       "      <td></td>\n",
       "      <td></td>\n",
       "      <td></td>\n",
       "    </tr>\n",
       "    <tr>\n",
       "      <th>3</th>\n",
       "      <td>chr1</td>\n",
       "      <td>HAVANA</td>\n",
       "      <td>exon</td>\n",
       "      <td>12613</td>\n",
       "      <td>12721</td>\n",
       "      <td>NaN</td>\n",
       "      <td>+</td>\n",
       "      <td>0</td>\n",
       "      <td>ENSG00000223972.5</td>\n",
       "      <td>transcribed_unprocessed_pseudogene</td>\n",
       "      <td>...</td>\n",
       "      <td>processed_transcript</td>\n",
       "      <td>DDX11L1-202</td>\n",
       "      <td>1</td>\n",
       "      <td>basic</td>\n",
       "      <td>OTTHUMT00000362751.1</td>\n",
       "      <td>2</td>\n",
       "      <td>ENSE00003582793.1</td>\n",
       "      <td></td>\n",
       "      <td></td>\n",
       "      <td></td>\n",
       "    </tr>\n",
       "    <tr>\n",
       "      <th>4</th>\n",
       "      <td>chr1</td>\n",
       "      <td>HAVANA</td>\n",
       "      <td>exon</td>\n",
       "      <td>13221</td>\n",
       "      <td>14409</td>\n",
       "      <td>NaN</td>\n",
       "      <td>+</td>\n",
       "      <td>0</td>\n",
       "      <td>ENSG00000223972.5</td>\n",
       "      <td>transcribed_unprocessed_pseudogene</td>\n",
       "      <td>...</td>\n",
       "      <td>processed_transcript</td>\n",
       "      <td>DDX11L1-202</td>\n",
       "      <td>1</td>\n",
       "      <td>basic</td>\n",
       "      <td>OTTHUMT00000362751.1</td>\n",
       "      <td>3</td>\n",
       "      <td>ENSE00002312635.1</td>\n",
       "      <td></td>\n",
       "      <td></td>\n",
       "      <td></td>\n",
       "    </tr>\n",
       "  </tbody>\n",
       "</table>\n",
       "<p>5 rows × 25 columns</p>\n",
       "</div>"
      ],
      "text/plain": [
       "  seqname  source     feature  start    end  score strand frame  \\\n",
       "0    chr1  HAVANA        gene  11869  14409    NaN      +     0   \n",
       "1    chr1  HAVANA  transcript  11869  14409    NaN      +     0   \n",
       "2    chr1  HAVANA        exon  11869  12227    NaN      +     0   \n",
       "3    chr1  HAVANA        exon  12613  12721    NaN      +     0   \n",
       "4    chr1  HAVANA        exon  13221  14409    NaN      +     0   \n",
       "\n",
       "             gene_id                           gene_type  ...  \\\n",
       "0  ENSG00000223972.5  transcribed_unprocessed_pseudogene  ...   \n",
       "1  ENSG00000223972.5  transcribed_unprocessed_pseudogene  ...   \n",
       "2  ENSG00000223972.5  transcribed_unprocessed_pseudogene  ...   \n",
       "3  ENSG00000223972.5  transcribed_unprocessed_pseudogene  ...   \n",
       "4  ENSG00000223972.5  transcribed_unprocessed_pseudogene  ...   \n",
       "\n",
       "        transcript_type transcript_name transcript_support_level    tag  \\\n",
       "0                                                                         \n",
       "1  processed_transcript     DDX11L1-202                        1  basic   \n",
       "2  processed_transcript     DDX11L1-202                        1  basic   \n",
       "3  processed_transcript     DDX11L1-202                        1  basic   \n",
       "4  processed_transcript     DDX11L1-202                        1  basic   \n",
       "\n",
       "      havana_transcript exon_number            exon_id ont protein_id ccdsid  \n",
       "0                                                                             \n",
       "1  OTTHUMT00000362751.1                                                       \n",
       "2  OTTHUMT00000362751.1           1  ENSE00002234944.1                        \n",
       "3  OTTHUMT00000362751.1           2  ENSE00003582793.1                        \n",
       "4  OTTHUMT00000362751.1           3  ENSE00002312635.1                        \n",
       "\n",
       "[5 rows x 25 columns]"
      ]
     },
     "execution_count": 4,
     "metadata": {},
     "output_type": "execute_result"
    }
   ],
   "source": [
    "df = read_gtf('Human/gencode.v37.annotation.gtf.gz')\n",
    "df.head()"
   ]
  },
  {
   "cell_type": "code",
   "execution_count": 16,
   "metadata": {
    "ExecuteTime": {
     "end_time": "2021-03-23T01:36:51.184731Z",
     "start_time": "2021-03-23T01:36:51.173024Z"
    }
   },
   "outputs": [
    {
     "data": {
      "text/plain": [
       "(3078635, 25)"
      ]
     },
     "execution_count": 16,
     "metadata": {},
     "output_type": "execute_result"
    }
   ],
   "source": [
    "df.shape"
   ]
  },
  {
   "cell_type": "code",
   "execution_count": 6,
   "metadata": {
    "ExecuteTime": {
     "end_time": "2021-06-02T22:59:37.986116Z",
     "start_time": "2021-06-02T22:59:37.977607Z"
    }
   },
   "outputs": [
    {
     "data": {
      "text/plain": [
       "(3078635, 25)"
      ]
     },
     "execution_count": 6,
     "metadata": {},
     "output_type": "execute_result"
    }
   ],
   "source": [
    "df.shape"
   ]
  },
  {
   "cell_type": "code",
   "execution_count": 7,
   "metadata": {
    "ExecuteTime": {
     "end_time": "2021-06-02T22:59:54.398700Z",
     "start_time": "2021-06-02T22:59:51.747735Z"
    }
   },
   "outputs": [],
   "source": [
    "t2g = df[df['feature']=='transcript'][['transcript_id','gene_id','gene_name']]"
   ]
  },
  {
   "cell_type": "code",
   "execution_count": 8,
   "metadata": {
    "ExecuteTime": {
     "end_time": "2021-06-02T22:59:54.444293Z",
     "start_time": "2021-06-02T22:59:54.432011Z"
    }
   },
   "outputs": [],
   "source": [
    "t2g['target_id'] = t2g['transcript_id']"
   ]
  },
  {
   "cell_type": "code",
   "execution_count": 11,
   "metadata": {
    "ExecuteTime": {
     "end_time": "2021-06-02T23:00:14.714961Z",
     "start_time": "2021-06-02T23:00:14.093023Z"
    }
   },
   "outputs": [
    {
     "data": {
      "text/plain": [
       "234485"
      ]
     },
     "execution_count": 11,
     "metadata": {},
     "output_type": "execute_result"
    }
   ],
   "source": [
    "len(np.unique(t2g['transcript_id']))"
   ]
  },
  {
   "cell_type": "code",
   "execution_count": 28,
   "metadata": {
    "ExecuteTime": {
     "end_time": "2021-03-23T01:44:26.717089Z",
     "start_time": "2021-03-23T01:44:26.149978Z"
    }
   },
   "outputs": [
    {
     "data": {
      "text/plain": [
       "234485"
      ]
     },
     "execution_count": 28,
     "metadata": {},
     "output_type": "execute_result"
    }
   ],
   "source": [
    "len(np.unique(t2g['transcript_id']))"
   ]
  },
  {
   "cell_type": "code",
   "execution_count": 12,
   "metadata": {
    "ExecuteTime": {
     "end_time": "2021-06-02T23:00:18.201313Z",
     "start_time": "2021-06-02T23:00:17.746520Z"
    }
   },
   "outputs": [
    {
     "data": {
      "text/plain": [
       "60651"
      ]
     },
     "execution_count": 12,
     "metadata": {},
     "output_type": "execute_result"
    }
   ],
   "source": [
    "len(np.unique(t2g['gene_id']))"
   ]
  },
  {
   "cell_type": "code",
   "execution_count": 29,
   "metadata": {
    "ExecuteTime": {
     "end_time": "2021-03-23T01:44:31.274378Z",
     "start_time": "2021-03-23T01:44:30.902694Z"
    }
   },
   "outputs": [
    {
     "data": {
      "text/plain": [
       "60651"
      ]
     },
     "execution_count": 29,
     "metadata": {},
     "output_type": "execute_result"
    }
   ],
   "source": [
    "len(np.unique(t2g['gene_id']))"
   ]
  },
  {
   "cell_type": "code",
   "execution_count": 13,
   "metadata": {
    "ExecuteTime": {
     "end_time": "2021-06-02T23:00:20.602249Z",
     "start_time": "2021-06-02T23:00:20.161088Z"
    }
   },
   "outputs": [
    {
     "data": {
      "text/plain": [
       "59409"
      ]
     },
     "execution_count": 13,
     "metadata": {},
     "output_type": "execute_result"
    }
   ],
   "source": [
    "len(np.unique(t2g['gene_name']))"
   ]
  },
  {
   "cell_type": "code",
   "execution_count": 32,
   "metadata": {
    "ExecuteTime": {
     "end_time": "2021-03-23T01:45:44.506050Z",
     "start_time": "2021-03-23T01:45:44.167471Z"
    }
   },
   "outputs": [
    {
     "data": {
      "text/plain": [
       "59409"
      ]
     },
     "execution_count": 32,
     "metadata": {},
     "output_type": "execute_result"
    }
   ],
   "source": [
    "len(np.unique(t2g['gene_name']))"
   ]
  },
  {
   "cell_type": "code",
   "execution_count": 14,
   "metadata": {
    "ExecuteTime": {
     "end_time": "2021-06-02T23:00:25.332033Z",
     "start_time": "2021-06-02T23:00:22.715557Z"
    }
   },
   "outputs": [],
   "source": [
    "t2g.to_csv('to_add/HUMAN_gencode.v37_t2g.csv',index=False)"
   ]
  },
  {
   "cell_type": "code",
   "execution_count": null,
   "metadata": {},
   "outputs": [],
   "source": []
  },
  {
   "cell_type": "code",
   "execution_count": null,
   "metadata": {},
   "outputs": [],
   "source": []
  },
  {
   "cell_type": "markdown",
   "metadata": {},
   "source": [
    "## Repeat for Mouse"
   ]
  },
  {
   "cell_type": "code",
   "execution_count": 15,
   "metadata": {
    "ExecuteTime": {
     "end_time": "2021-06-02T23:17:44.426819Z",
     "start_time": "2021-06-02T23:00:40.219064Z"
    }
   },
   "outputs": [
    {
     "name": "stdout",
     "output_type": "stream",
     "text": [
      "\n",
      "[build] loading fasta file Mouse/gencode.vM26.transcripts.fa.gz\n",
      "[build] k-mer length: 31\n",
      "[build] warning: clipped off poly-A tail (longer than 10)\n",
      "        from 757 target sequences\n",
      "[build] counting k-mers ... done.\n",
      "[build] building target de Bruijn graph ...  done \n",
      "[build] creating equivalence classes ...  done\n",
      "[build] target de Bruijn graph has 865656 contigs and contains 120547711 k-mers \n",
      "\n"
     ]
    }
   ],
   "source": [
    "!/Kallisto/kallisto index -i \"to_add/MOUSE_gencode.vM26.transcripts.idx\" Mouse/gencode.vM26.transcripts.fa.gz"
   ]
  },
  {
   "cell_type": "code",
   "execution_count": 16,
   "metadata": {
    "ExecuteTime": {
     "end_time": "2021-06-02T23:19:57.975325Z",
     "start_time": "2021-06-02T23:17:44.442398Z"
    }
   },
   "outputs": [
    {
     "name": "stderr",
     "output_type": "stream",
     "text": [
      "INFO:root:Extracted GTF attributes: ['gene_id', 'gene_type', 'gene_name', 'level', 'mgi_id', 'havana_gene', 'transcript_id', 'transcript_type', 'transcript_name', 'transcript_support_level', 'tag', 'havana_transcript', 'exon_number', 'exon_id', 'protein_id', 'ccdsid', 'ont']\n"
     ]
    }
   ],
   "source": [
    "df = read_gtf('Mouse/gencode.vM26.annotation.gtf.gz')\n",
    "t2g = df[df['feature']=='transcript'][['transcript_id','gene_id','gene_name']]\n",
    "t2g['target_id'] = t2g['transcript_id']\n",
    "t2g.to_csv('to_add/MOUSE_gencode.vM26_t2g.csv',index=False)"
   ]
  },
  {
   "cell_type": "code",
   "execution_count": null,
   "metadata": {},
   "outputs": [],
   "source": []
  }
 ],
 "metadata": {
  "kernelspec": {
   "display_name": "Python 3.8",
   "language": "python",
   "name": "python3.8"
  },
  "language_info": {
   "codemirror_mode": {
    "name": "ipython",
    "version": 3
   },
   "file_extension": ".py",
   "mimetype": "text/x-python",
   "name": "python",
   "nbconvert_exporter": "python",
   "pygments_lexer": "ipython3",
   "version": "3.8.8"
  },
  "toc": {
   "base_numbering": 1,
   "nav_menu": {},
   "number_sections": false,
   "sideBar": true,
   "skip_h1_title": false,
   "title_cell": "Table of Contents",
   "title_sidebar": "Contents",
   "toc_cell": false,
   "toc_position": {},
   "toc_section_display": true,
   "toc_window_display": false
  }
 },
 "nbformat": 4,
 "nbformat_minor": 2
}
